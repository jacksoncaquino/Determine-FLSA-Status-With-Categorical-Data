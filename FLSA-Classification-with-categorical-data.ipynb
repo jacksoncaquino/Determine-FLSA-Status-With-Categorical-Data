{
 "cells": [
  {
   "cell_type": "code",
   "execution_count": 1,
   "id": "ab33d36c",
   "metadata": {},
   "outputs": [],
   "source": [
    "import pandas"
   ]
  },
  {
   "cell_type": "code",
   "execution_count": 2,
   "id": "d1077c7c",
   "metadata": {},
   "outputs": [],
   "source": [
    "jobs = pandas.read_csv(\"US_ExemptionStatus.csv\")"
   ]
  },
  {
   "cell_type": "code",
   "execution_count": 3,
   "id": "7ea56f1d",
   "metadata": {},
   "outputs": [
    {
     "data": {
      "text/plain": [
       "Index(['Management Level', 'Job Family Group', 'Job Family', 'Sales Indicator',\n",
       "       'Job Category', 'Exempt Status'],\n",
       "      dtype='object')"
      ]
     },
     "execution_count": 3,
     "metadata": {},
     "output_type": "execute_result"
    }
   ],
   "source": [
    "jobs.columns"
   ]
  },
  {
   "cell_type": "code",
   "execution_count": 4,
   "id": "daec4cec",
   "metadata": {},
   "outputs": [
    {
     "name": "stdout",
     "output_type": "stream",
     "text": [
      "Accuracy of the decision tree model: 0.9363636363636364\n"
     ]
    }
   ],
   "source": [
    "import pandas as pd\n",
    "from sklearn.model_selection import train_test_split\n",
    "from sklearn.tree import DecisionTreeClassifier\n",
    "from sklearn.preprocessing import LabelEncoder\n",
    "from sklearn.metrics import accuracy_score\n",
    "\n",
    "# Define a dictionary to store label encoders and mappings\n",
    "label_encoders = {}\n",
    "label_encoder_mappings = {}\n",
    "\n",
    "# Encode non-numerical variables and store label encoders and mappings\n",
    "for column in jobs.columns:\n",
    "    if jobs[column].dtype == 'object':\n",
    "        label_encoders[column] = LabelEncoder()\n",
    "        jobs[column] = label_encoders[column].fit_transform(jobs[column])\n",
    "\n",
    "        # Storing the mapping between original categories and encoded values\n",
    "        label_encoder_mappings[column] = dict(zip(label_encoders[column].classes_, label_encoders[column].transform(label_encoders[column].classes_)))\n",
    "        print(dict(zip(label_encoders[column].classes_, label_encoders[column].transform(label_encoders[column].classes_))))\n",
    "# Define features (X) and target (y)\n",
    "X = jobs.drop('Exempt Status', axis=1)\n",
    "y = jobs['Exempt Status']\n",
    "\n",
    "# Split dataset into training and testing sets (80% train, 20% test)\n",
    "X_train, X_test, y_train, y_test = train_test_split(X, y, test_size=0.2, random_state=42)\n",
    "\n",
    "# Train the decision tree model\n",
    "model = DecisionTreeClassifier(random_state=42)\n",
    "model.fit(X_train, y_train)\n",
    "\n",
    "# Predict Exempt Status on the test set\n",
    "y_pred = model.predict(X_test)\n",
    "\n",
    "# Calculate the accuracy of the model\n",
    "accuracy = accuracy_score(y_test, y_pred)\n",
    "print(\"Accuracy of the decision tree model:\", accuracy)\n",
    "\n",
    "# Reverse the encoding using the label encoders\n",
    "reverse_label_encoders = {col: {label: encoded for encoded, label in mapping.items()} for col, mapping in label_encoder_mappings.items()}\n"
   ]
  },
  {
   "cell_type": "code",
   "execution_count": 12,
   "id": "e20d33d4",
   "metadata": {},
   "outputs": [
    {
     "name": "stdout",
     "output_type": "stream",
     "text": [
      "Accuracy of the decision tree model on the train data: 0.9863636363636363\n"
     ]
    }
   ],
   "source": [
    "# Predict Exempt Status on the train set to see how much overfitting we have had\n",
    "y_pred_train = model.predict(X_train)\n",
    "\n",
    "# Calculate the accuracy of the model\n",
    "accuracy_train = accuracy_score(y_train, y_pred_train)\n",
    "print(\"Accuracy of the decision tree model on the train data:\", accuracy_train)"
   ]
  },
  {
   "cell_type": "code",
   "execution_count": 19,
   "id": "caf84c42",
   "metadata": {},
   "outputs": [
    {
     "name": "stdout",
     "output_type": "stream",
     "text": [
      "Accuracy of the logistic regression model: 0.825\n"
     ]
    },
    {
     "name": "stderr",
     "output_type": "stream",
     "text": [
      "C:\\Users\\Jackson_Aquino\\AppData\\Local\\anaconda3\\Lib\\site-packages\\sklearn\\linear_model\\_logistic.py:460: ConvergenceWarning: lbfgs failed to converge (status=1):\n",
      "STOP: TOTAL NO. of ITERATIONS REACHED LIMIT.\n",
      "\n",
      "Increase the number of iterations (max_iter) or scale the data as shown in:\n",
      "    https://scikit-learn.org/stable/modules/preprocessing.html\n",
      "Please also refer to the documentation for alternative solver options:\n",
      "    https://scikit-learn.org/stable/modules/linear_model.html#logistic-regression\n",
      "  n_iter_i = _check_optimize_result(\n"
     ]
    }
   ],
   "source": [
    "#Now training a logistic regression\n",
    "from sklearn.linear_model import LogisticRegression\n",
    "\n",
    "# Train the logistic regression model\n",
    "logistic_regression_model = LogisticRegression(random_state=42)\n",
    "logistic_regression_model.fit(X_train, y_train)\n",
    "\n",
    "# Predict Exempt Status on the test set using logistic regression\n",
    "y_pred_logistic_regression = logistic_regression_model.predict(X_test)\n",
    "\n",
    "# Calculate the accuracy of the logistic regression model\n",
    "accuracy_logistic_regression = accuracy_score(y_test, y_pred_logistic_regression)\n",
    "print(\"Accuracy of the logistic regression model:\", accuracy_logistic_regression)"
   ]
  },
  {
   "cell_type": "code",
   "execution_count": 20,
   "id": "49fc3c92",
   "metadata": {},
   "outputs": [
    {
     "name": "stdout",
     "output_type": "stream",
     "text": [
      "Accuracy of the logistic regression model on the training data: 0.8670454545454546\n"
     ]
    }
   ],
   "source": [
    "#Now looking for signs of overfitting on the log regression, which I imagine there will not be as much as on the decision tree\n",
    "y_pred_logModel_train = logistic_regression_model.predict(X_train)\n",
    "\n",
    "accuracy_logModel_train = accuracy_score(y_train, y_pred_logModel_train)\n",
    "print(\"Accuracy of the logistic regression model on the training data:\", accuracy_logModel_train)"
   ]
  },
  {
   "cell_type": "code",
   "execution_count": 37,
   "id": "eb780401",
   "metadata": {},
   "outputs": [],
   "source": [
    "#Putting them all together to see how they relate to each other\n",
    "decisionTreeResult = list(y_pred)\n",
    "logRegressionResult = list(y_pred_logistic_regression)\n",
    "TrueY = list(y_test)\n",
    "\n",
    "\n",
    "result_df = pandas.DataFrame({'Decision Tree Result': decisionTreeResult,\n",
    "                          'Logistic Regression Result': logRegressionResult,\n",
    "                          'True Y': TrueY})"
   ]
  },
  {
   "cell_type": "code",
   "execution_count": 39,
   "id": "069a19f5",
   "metadata": {},
   "outputs": [],
   "source": [
    "result_df.to_csv(\"test.csv\",index=False)"
   ]
  }
 ],
 "metadata": {
  "kernelspec": {
   "display_name": "Python 3 (ipykernel)",
   "language": "python",
   "name": "python3"
  },
  "language_info": {
   "codemirror_mode": {
    "name": "ipython",
    "version": 3
   },
   "file_extension": ".py",
   "mimetype": "text/x-python",
   "name": "python",
   "nbconvert_exporter": "python",
   "pygments_lexer": "ipython3",
   "version": "3.11.5"
  }
 },
 "nbformat": 4,
 "nbformat_minor": 5
}
