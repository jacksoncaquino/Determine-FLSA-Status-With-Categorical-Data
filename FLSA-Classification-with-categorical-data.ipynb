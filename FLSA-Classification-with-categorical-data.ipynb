{
 "cells": [
  {
   "cell_type": "code",
   "execution_count": 1,
   "id": "ab33d36c",
   "metadata": {},
   "outputs": [],
   "source": [
    "import pandas"
   ]
  },
  {
   "cell_type": "code",
   "execution_count": 2,
   "id": "d1077c7c",
   "metadata": {},
   "outputs": [],
   "source": [
    "jobs = pandas.read_csv(\"US_ExemptionStatus.csv\")"
   ]
  },
  {
   "cell_type": "code",
   "execution_count": 3,
   "id": "7ea56f1d",
   "metadata": {},
   "outputs": [
    {
     "data": {
      "text/plain": [
       "Index(['Management Level', 'Job Family Group', 'Job Family', 'Sales Indicator',\n",
       "       'Job Category', 'Exempt Status'],\n",
       "      dtype='object')"
      ]
     },
     "execution_count": 3,
     "metadata": {},
     "output_type": "execute_result"
    }
   ],
   "source": [
    "jobs.columns"
   ]
  },
  {
   "cell_type": "code",
   "execution_count": 4,
   "id": "daec4cec",
   "metadata": {},
   "outputs": [
    {
     "name": "stdout",
     "output_type": "stream",
     "text": [
      "{'E1': 0, 'E2': 1, 'E3': 2, 'E4': 3, 'E5': 4, 'I1': 5, 'I10': 6, 'I11': 7, 'I12': 8, 'I13': 9, 'I2': 10, 'I3': 11, 'I4': 12, 'I5': 13, 'I6': 14, 'I7': 15, 'I8': 16, 'I9': 17, 'IN': 18, 'IS1': 19, 'IS2': 20, 'IS3': 21, 'IS4': 22, 'IS5': 23, 'M10': 24, 'M11': 25, 'M6': 26, 'M7': 27, 'M8': 28, 'M9': 29, 'S2': 30, 'S3': 31, 'S4': 32, 'S5': 33, 'S6': 34, 'S7': 35, 'S8': 36, 'S9': 37}\n",
      "{'Business Support': 0, 'Corporate Development & Strategy': 1, 'Cybersecurity': 2, 'Data Science & Analytics': 3, 'Engineering Research & Development': 4, 'Engineering Services': 5, 'Facilities': 6, 'Finance Job Family Group': 7, 'General Management Job Family Group': 8, 'Human Resources': 9, 'Information Technology': 10, 'Inside Sales': 11, 'Interns': 12, 'Legal': 13, 'Manufacturing': 14, 'Marketing': 15, 'Materials & Procurement': 16, 'Outside Sales': 17, 'Product Services': 18, 'Production': 19, 'Professional Services': 20, 'Sales Engineering': 21, 'Sales Operations Job Family Group': 22}\n",
      "{'Account Services Management': 0, 'Accounting': 1, 'Accounts Payable': 2, 'Accounts Receivable': 3, 'Administrative Support': 4, 'Agile Scrum Master': 5, 'Alliances': 6, 'Analyst Relations': 7, 'Anti Fraud': 8, 'Asset Management': 9, 'Aviation': 10, 'Benefits': 11, 'Brand Marketing': 12, 'Business Continuity': 13, 'Business Development': 14, 'Business Development - Sales': 15, 'Business Intelligence': 16, 'Business Operations': 17, 'Business Process Management': 18, 'Business Systems Analysis': 19, 'Buyer': 20, 'Channel Marketing': 21, 'Channel Sales': 22, 'Client Principal': 23, 'Client Relationship Management': 24, 'Co-op/Intern': 25, 'Command Center': 26, 'Commercial Contracts': 27, 'Commodity Management': 28, 'Compensation': 29, 'Compensation & Benefits': 30, 'Competitive Intelligence': 31, 'Compliance': 32, 'Consulting': 33, 'Content Production': 34, 'Contract Counsel': 35, 'Contract Management': 36, 'Contracts Maintenance': 37, 'Corp Consulting Intern': 38, 'Corporate Business Consulting': 39, 'Corporate Communications': 40, 'Corporate Development': 41, 'Corporate Security': 42, 'Creative Development': 43, 'Credit': 44, 'Customer Advocacy': 45, 'Customer Education Sales': 46, 'Customer Services': 47, 'Customer Success': 48, 'Customer/Technical Training': 49, 'Cyber Security Manager': 50, 'Cybersecurity Consulting': 51, 'Cybersecurity Engineering & Operations': 52, 'DT Client Executive': 53, 'Data Engineering': 54, 'Data Quality Analytics': 55, 'Data Science': 56, 'Database Administrator': 57, 'Database Engineering': 58, 'Demand Planning': 59, 'Dev Ops': 60, 'Direct Sales': 61, 'Distribution': 62, 'Diversity': 63, 'E-Business': 64, 'Electrical Engineering': 65, 'Employee Relations': 66, 'Engineering Graphic Design': 67, 'Engineering Project Management': 68, 'Engineering Technician': 69, 'Engineering Technologist': 70, 'Environmental Health & Safety': 71, 'Environmental, Social & Governance': 72, 'Executive Briefing Program': 73, 'Executive Protection': 74, 'Facilities Management': 75, 'Facilities Planning': 76, 'Field Marketing': 77, 'Field Service': 78, 'Financial Analysis': 79, 'Financial Operations': 80, 'Financing Sales': 81, 'Firmware Engineering': 82, 'General Management': 83, 'Global Campaigns': 84, 'Global Enterprise Architect': 85, 'Global Ethics & Compliance': 86, 'Global Mobility': 87, 'Global Supply Management': 88, 'Government Contracts': 89, 'Government Relations': 90, 'Graduate Intern': 91, 'HR Business Partner': 92, 'HR Generalist': 93, 'HR Shared Services': 94, 'HRIS': 95, 'Hardware Engineering': 96, 'IT App Management': 97, 'IT Architecture': 98, 'IT Business Consulting': 99, 'IT Data Center Operations': 100, 'IT Infrastructure': 101, 'IT Network Development': 102, 'IT Security': 103, 'IT Service Operations': 104, 'IT Technical Analysis': 105, 'IT Technical Services': 106, 'IT Telecom Engineering': 107, 'Import/Export': 108, 'Incident Response': 109, 'Industrial Design Engineering': 110, 'Information Systems and Security Audit': 111, 'Inside Product Specialist': 112, 'Inside Sales - Channel': 113, 'Inside Sales - Renewals': 114, 'Inside Sales Account Manager': 115, 'Inside Sales Account Representative': 116, 'Inside Sales Management': 117, 'Inside Sales Representative': 118, 'Interactive/Visual Design': 119, 'Internal Audit': 120, 'International Product Support': 121, 'Inventory Coordinator': 122, 'Inventory Management': 123, 'Investor Relations': 124, 'Lab Support Engineering': 125, 'Learning & Development': 126, 'Legal Counsel': 127, 'Legal Operations': 128, 'Legal Secretary': 129, 'Logistics': 130, 'Logistics Support': 131, 'Machine Learning Engineer': 132, 'Maintenance Mechanic': 133, 'Manufacturing Engineering': 134, 'Manufacturing Technician': 135, 'Marketing Comms': 136, 'Marketing Development Program': 137, 'Marketing Event Management': 138, 'Marketing Operations': 139, 'Material Handling': 140, 'Material Planning': 141, 'Mechanical Engineering': 142, 'Merchandising': 143, 'Network Development Engineering': 144, 'Network Systems Management': 145, 'Office Support': 146, 'Order Management': 147, 'Organizational Development': 148, 'PCB Rework Operator': 149, 'Paralegal': 150, 'Partner Management': 151, 'Payroll': 152, 'Penetration Testing': 153, 'Performance Engineering': 154, 'Portfolio Marketing': 155, 'Pricing': 156, 'Process Development Engineer': 157, 'Procurement Manager': 158, 'Product Design - IT': 159, 'Product Development Management': 160, 'Product Management': 161, 'Product Management-IT': 162, 'Product Marketing': 163, 'Product Offer Management': 164, 'Product Operations Engineering': 165, 'Product Security Engineering': 166, 'Product Technologist': 167, 'Product and Solutions Sales Specialist': 168, 'Production & Assembly': 169, 'Production Control': 170, 'Production Operations': 171, 'Program Mgmt - IT': 172, 'Project/Program Administration': 173, 'Project/Program Management': 174, 'Proposal Management': 175, 'Purchasing': 176, 'Quality Assurance Engineering': 177, 'Quality Control': 178, 'Quality Engineering': 179, 'Real Estate Management': 180, 'Regional Sales Manager': 181, 'Regulatory Engineering': 182, 'Research Scientist': 183, 'Resource Deployment Manager': 184, 'Resource Management': 185, 'Retail Account Sales': 186, 'Revenue Operations': 187, 'Revenue Recognition Accounting': 188, 'Sales Comp Operations': 189, 'Sales Engineer Analyst': 190, 'Sales Leasing/Finance': 191, 'Sales Operations': 192, 'Sales Planning & Strategy': 193, 'Sales Support': 194, 'Sales Training': 195, 'Service Delivery': 196, 'Services Project/Program Management': 197, 'Services Sales': 198, 'Site Reliability Engineering': 199, 'Social Media': 200, 'Software Engineer-IT': 201, 'Software Engineering': 202, 'Software Quality Engineering': 203, 'Software System Engineering': 204, 'Solutions Architecture': 205, 'Solutions Principal': 206, 'Strategic Business Development': 207, 'Supplier Process Engineering': 208, 'Supply Chain': 209, 'Systems Development Engineering': 210, 'Systems Engineering': 211, 'Talent Acquisition': 212, 'Tax': 213, 'Technical Account Manager': 214, 'Technical Content Development': 215, 'Technical Leadership': 216, 'Technical Marketing': 217, 'Technical Program Management': 218, 'Technical Support': 219, 'Technical Writer': 220, 'Test Engineering': 221, 'Test Technician': 222, 'Transformation Program Manager': 223, 'Treasury': 224, 'Undergraduate Intern': 225, 'User Interface Engineering': 226, 'Vendor Management': 227, 'Ventures': 228, 'Vulnerability Assessment': 229, 'Web Production': 230}\n",
      "{'N': 0, 'Y': 1}\n",
      "{'Frontline': 0, 'Non-Frontline': 1, nan: 2}\n",
      "{'Exempt': 0, 'Non-Exempt': 1, nan: 2}\n",
      "Accuracy of the decision tree model: 0.9363636363636364\n"
     ]
    }
   ],
   "source": [
    "import pandas as pd\n",
    "from sklearn.model_selection import train_test_split\n",
    "from sklearn.tree import DecisionTreeClassifier\n",
    "from sklearn.preprocessing import LabelEncoder\n",
    "from sklearn.metrics import accuracy_score\n",
    "\n",
    "# Define a dictionary to store label encoders and mappings\n",
    "label_encoders = {}\n",
    "label_encoder_mappings = {}\n",
    "\n",
    "# Encode non-numerical variables and store label encoders and mappings\n",
    "for column in jobs.columns:\n",
    "    if jobs[column].dtype == 'object':\n",
    "        label_encoders[column] = LabelEncoder()\n",
    "        jobs[column] = label_encoders[column].fit_transform(jobs[column])\n",
    "\n",
    "        # Storing the mapping between original categories and encoded values\n",
    "        label_encoder_mappings[column] = dict(zip(label_encoders[column].classes_, label_encoders[column].transform(label_encoders[column].classes_)))\n",
    "        print(dict(zip(label_encoders[column].classes_, label_encoders[column].transform(label_encoders[column].classes_))))\n",
    "# Define features (X) and target (y)\n",
    "X = jobs.drop('Exempt Status', axis=1)\n",
    "y = jobs['Exempt Status']\n",
    "\n",
    "# Split dataset into training and testing sets (80% train, 20% test)\n",
    "X_train, X_test, y_train, y_test = train_test_split(X, y, test_size=0.2, random_state=42)\n",
    "\n",
    "# Train the decision tree model\n",
    "model = DecisionTreeClassifier(random_state=42)\n",
    "model.fit(X_train, y_train)\n",
    "\n",
    "# Predict Exempt Status on the test set\n",
    "y_pred = model.predict(X_test)\n",
    "\n",
    "# Calculate the accuracy of the model\n",
    "accuracy = accuracy_score(y_test, y_pred)\n",
    "print(\"Accuracy of the decision tree model:\", accuracy)\n",
    "\n",
    "# Reverse the encoding using the label encoders\n",
    "reverse_label_encoders = {col: {label: encoded for encoded, label in mapping.items()} for col, mapping in label_encoder_mappings.items()}\n"
   ]
  },
  {
   "cell_type": "code",
   "execution_count": 12,
   "id": "e20d33d4",
   "metadata": {},
   "outputs": [
    {
     "name": "stdout",
     "output_type": "stream",
     "text": [
      "Accuracy of the decision tree model on the train data: 0.9863636363636363\n"
     ]
    }
   ],
   "source": [
    "# Predict Exempt Status on the train set to see how much overfitting we have had\n",
    "y_pred_train = model.predict(X_train)\n",
    "\n",
    "# Calculate the accuracy of the model\n",
    "accuracy_train = accuracy_score(y_train, y_pred_train)\n",
    "print(\"Accuracy of the decision tree model on the train data:\", accuracy_train)"
   ]
  },
  {
   "cell_type": "code",
   "execution_count": 19,
   "id": "caf84c42",
   "metadata": {},
   "outputs": [
    {
     "name": "stdout",
     "output_type": "stream",
     "text": [
      "Accuracy of the logistic regression model: 0.825\n"
     ]
    },
    {
     "name": "stderr",
     "output_type": "stream",
     "text": [
      "C:\\Users\\Jackson_Aquino\\AppData\\Local\\anaconda3\\Lib\\site-packages\\sklearn\\linear_model\\_logistic.py:460: ConvergenceWarning: lbfgs failed to converge (status=1):\n",
      "STOP: TOTAL NO. of ITERATIONS REACHED LIMIT.\n",
      "\n",
      "Increase the number of iterations (max_iter) or scale the data as shown in:\n",
      "    https://scikit-learn.org/stable/modules/preprocessing.html\n",
      "Please also refer to the documentation for alternative solver options:\n",
      "    https://scikit-learn.org/stable/modules/linear_model.html#logistic-regression\n",
      "  n_iter_i = _check_optimize_result(\n"
     ]
    }
   ],
   "source": [
    "#Now training a logistic regression\n",
    "from sklearn.linear_model import LogisticRegression\n",
    "\n",
    "# Train the logistic regression model\n",
    "logistic_regression_model = LogisticRegression(random_state=42)\n",
    "logistic_regression_model.fit(X_train, y_train)\n",
    "\n",
    "# Predict Exempt Status on the test set using logistic regression\n",
    "y_pred_logistic_regression = logistic_regression_model.predict(X_test)\n",
    "\n",
    "# Calculate the accuracy of the logistic regression model\n",
    "accuracy_logistic_regression = accuracy_score(y_test, y_pred_logistic_regression)\n",
    "print(\"Accuracy of the logistic regression model:\", accuracy_logistic_regression)"
   ]
  },
  {
   "cell_type": "code",
   "execution_count": 20,
   "id": "49fc3c92",
   "metadata": {},
   "outputs": [
    {
     "name": "stdout",
     "output_type": "stream",
     "text": [
      "Accuracy of the logistic regression model on the training data: 0.8670454545454546\n"
     ]
    }
   ],
   "source": [
    "#Now looking for signs of overfitting on the log regression, which I imagine there will not be as much as on the decision tree\n",
    "y_pred_logModel_train = logistic_regression_model.predict(X_train)\n",
    "\n",
    "accuracy_logModel_train = accuracy_score(y_train, y_pred_logModel_train)\n",
    "print(\"Accuracy of the logistic regression model on the training data:\", accuracy_logModel_train)"
   ]
  },
  {
   "cell_type": "code",
   "execution_count": 37,
   "id": "eb780401",
   "metadata": {},
   "outputs": [],
   "source": [
    "#Putting them all together to see how they relate to each other\n",
    "decisionTreeResult = list(y_pred)\n",
    "logRegressionResult = list(y_pred_logistic_regression)\n",
    "TrueY = list(y_test)\n",
    "\n",
    "\n",
    "result_df = pandas.DataFrame({'Decision Tree Result': decisionTreeResult,\n",
    "                          'Logistic Regression Result': logRegressionResult,\n",
    "                          'True Y': TrueY})"
   ]
  },
  {
   "cell_type": "code",
   "execution_count": 39,
   "id": "069a19f5",
   "metadata": {},
   "outputs": [],
   "source": [
    "result_df.to_csv(\"test.csv\",index=False)"
   ]
  }
 ],
 "metadata": {
  "kernelspec": {
   "display_name": "Python 3 (ipykernel)",
   "language": "python",
   "name": "python3"
  },
  "language_info": {
   "codemirror_mode": {
    "name": "ipython",
    "version": 3
   },
   "file_extension": ".py",
   "mimetype": "text/x-python",
   "name": "python",
   "nbconvert_exporter": "python",
   "pygments_lexer": "ipython3",
   "version": "3.11.5"
  }
 },
 "nbformat": 4,
 "nbformat_minor": 5
}
